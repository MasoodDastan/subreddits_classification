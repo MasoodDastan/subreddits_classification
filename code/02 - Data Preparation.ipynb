{
 "cells": [
  {
   "cell_type": "markdown",
   "id": "97d6f3f4-9a61-42b5-92e4-cf15127cb408",
   "metadata": {},
   "source": [
    "# Data Prepation \n",
    "\n",
    "In this notebook, the primary focus is on conducting the necessary data preparation steps to ensure the dataset is ready for future analysis. Additionally, a simple exploratory data analysis (EDA) method is implemented to facilitate the initial data cleaning steps. This EDA provides a preliminary understanding of the dataset, identifies any data quality issues, missing values, outliers, or other anomalies that may need to be addressed.\n",
    "\n",
    "The initial preprocessing step involves merging 12 data tables that were collected from two subreddits, namely \"Investing\" and \"Personal Finance,\" over a span of 6 days. By merging these tables, the data can be consolidated for further analysis.\n",
    "\n",
    "Following the merging process, several data cleaning techniques and visualization methods will be applied to gain insights and ensure data quality. This step aims to identify and/or address any inconsistencies, missing values, or outliers present in the dataset.\n",
    "\n",
    "Lastly, the dataset will be split into a training set and a test set. This division allows for model training and evaluation on separate subsets of the data, facilitating the assessment of the model's performance and generalization capabilities."
   ]
  },
  {
   "cell_type": "code",
   "execution_count": 1,
   "id": "889031a1-e80d-4fad-8f7d-426b4ea460d6",
   "metadata": {},
   "outputs": [],
   "source": [
    "import numpy as np\n",
    "import pandas as pd\n",
    "import matplotlib.pyplot as plt\n",
    "import seaborn as sns\n",
    "\n",
    "from datetime import datetime\n",
    "\n",
    "import nltk\n",
    "from nltk.stem import PorterStemmer, WordNetLemmatizer\n",
    "from nltk.corpus import wordnet, stopwords\n",
    "from nltk.tokenize import sent_tokenize, word_tokenize, regexp_tokenize, RegexpTokenizer\n",
    "from nltk.sentiment.vader import SentimentIntensityAnalyzer\n",
    "\n",
    "from sklearn.naive_bayes import MultinomialNB\n",
    "from sklearn.linear_model import LogisticRegression\n",
    "from sklearn.model_selection import train_test_split, cross_val_score, KFold, GridSearchCV\n",
    "from sklearn.feature_extraction.text import CountVectorizer, TfidfVectorizer\n",
    "from sklearn.pipeline import Pipeline\n",
    "from sklearn.metrics import classification_report, recall_score, f1_score, precision_score, roc_auc_score, RocCurveDisplay, ConfusionMatrixDisplay, confusion_matrix\n",
    "\n",
    "import os"
   ]
  },
  {
   "cell_type": "code",
   "execution_count": 2,
   "id": "39b1364f-6b71-4af5-bc50-c1bb84528ee2",
   "metadata": {},
   "outputs": [],
   "source": [
    "from nlp_functions import clean_data"
   ]
  },
  {
   "cell_type": "markdown",
   "id": "b7e56c9f-78d6-4aa4-872f-f2fa98b31f36",
   "metadata": {},
   "source": [
    "## Importing and Merge Subreddits Data"
   ]
  },
  {
   "cell_type": "code",
   "execution_count": 3,
   "id": "af2be6b1-669e-4eef-bd5e-1f6f4877b06f",
   "metadata": {},
   "outputs": [],
   "source": [
    "def data_importer(directory, data_name_identifier):\n",
    "    \"\"\"\n",
    "    Import data from a specified directory based on a given data name identifier.\n",
    "\n",
    "    Parameters\n",
    "    ----------\n",
    "    directory : str\n",
    "        The directory path where the data files are located.\n",
    "    data_name_identifier : str\n",
    "        The identifier used to filter the data files.\n",
    "\n",
    "    Returns\n",
    "    -------\n",
    "    pandas.DataFrame\n",
    "        The concatenated data from the identified files, with duplicate rows removed.\n",
    "\n",
    "    \"\"\"\n",
    "    # List all files in the specified directory\n",
    "    data_lists = os.listdir(directory)\n",
    "\n",
    "    # Initialize an empty dictionary to store the imported data\n",
    "    dic = {}\n",
    "\n",
    "    # Iterate over the files in the directory\n",
    "    for index, file_name in enumerate(data_lists):\n",
    "        # Check if the data name identifier is present in the file name\n",
    "        if data_name_identifier in file_name:\n",
    "            # Read the CSV file and store it in the dictionary with a unique key\n",
    "            dic[f\"data_{index+1}\"] = pd.read_csv(f\"../data/{file_name}\")\n",
    "\n",
    "    # Concatenate the data stored in the dictionary and reset the index\n",
    "    data = pd.concat(dic).reset_index(drop=True)\n",
    "\n",
    "    # Drop any duplicate rows from the concatenated data\n",
    "    return data.drop_duplicates()"
   ]
  },
  {
   "cell_type": "code",
   "execution_count": 4,
   "id": "53997bee-a005-4b8c-a97f-96fd9b291d5c",
   "metadata": {},
   "outputs": [
    {
     "data": {
      "text/html": [
       "<div>\n",
       "<style scoped>\n",
       "    .dataframe tbody tr th:only-of-type {\n",
       "        vertical-align: middle;\n",
       "    }\n",
       "\n",
       "    .dataframe tbody tr th {\n",
       "        vertical-align: top;\n",
       "    }\n",
       "\n",
       "    .dataframe thead th {\n",
       "        text-align: right;\n",
       "    }\n",
       "</style>\n",
       "<table border=\"1\" class=\"dataframe\">\n",
       "  <thead>\n",
       "    <tr style=\"text-align: right;\">\n",
       "      <th></th>\n",
       "      <th>time</th>\n",
       "      <th>title</th>\n",
       "      <th>text</th>\n",
       "      <th>subreddit</th>\n",
       "    </tr>\n",
       "  </thead>\n",
       "  <tbody>\n",
       "    <tr>\n",
       "      <th>0</th>\n",
       "      <td>1.686795e+09</td>\n",
       "      <td>How do I efficiently set aside money for my da...</td>\n",
       "      <td>So I’m 24(f), and just had my first daughter i...</td>\n",
       "      <td>personalfinance</td>\n",
       "    </tr>\n",
       "    <tr>\n",
       "      <th>1</th>\n",
       "      <td>1.686795e+09</td>\n",
       "      <td>I want to sell my new car so I can afford to m...</td>\n",
       "      <td>I currently own a car from 2023 that is 600+ a...</td>\n",
       "      <td>personalfinance</td>\n",
       "    </tr>\n",
       "    <tr>\n",
       "      <th>2</th>\n",
       "      <td>1.686794e+09</td>\n",
       "      <td>Disputing a Medical Bill</td>\n",
       "      <td>I am a healthy individual (27f) who was having...</td>\n",
       "      <td>personalfinance</td>\n",
       "    </tr>\n",
       "    <tr>\n",
       "      <th>3</th>\n",
       "      <td>1.686794e+09</td>\n",
       "      <td>Using Flat Payment instead of Minimum Balance ...</td>\n",
       "      <td>I'll organize this in a way you can skip parts...</td>\n",
       "      <td>personalfinance</td>\n",
       "    </tr>\n",
       "    <tr>\n",
       "      <th>4</th>\n",
       "      <td>1.686794e+09</td>\n",
       "      <td>Best credit card for travel</td>\n",
       "      <td>I’m getting married at the end of the year.  I...</td>\n",
       "      <td>personalfinance</td>\n",
       "    </tr>\n",
       "  </tbody>\n",
       "</table>\n",
       "</div>"
      ],
      "text/plain": [
       "           time                                              title  \\\n",
       "0  1.686795e+09  How do I efficiently set aside money for my da...   \n",
       "1  1.686795e+09  I want to sell my new car so I can afford to m...   \n",
       "2  1.686794e+09                           Disputing a Medical Bill   \n",
       "3  1.686794e+09  Using Flat Payment instead of Minimum Balance ...   \n",
       "4  1.686794e+09                        Best credit card for travel   \n",
       "\n",
       "                                                text        subreddit  \n",
       "0  So I’m 24(f), and just had my first daughter i...  personalfinance  \n",
       "1  I currently own a car from 2023 that is 600+ a...  personalfinance  \n",
       "2  I am a healthy individual (27f) who was having...  personalfinance  \n",
       "3  I'll organize this in a way you can skip parts...  personalfinance  \n",
       "4  I’m getting married at the end of the year.  I...  personalfinance  "
      ]
     },
     "execution_count": 4,
     "metadata": {},
     "output_type": "execute_result"
    }
   ],
   "source": [
    "personalfinance = data_importer(directory='../data', data_name_identifier='-personalfiannce-praw.csv')\n",
    "personalfinance.head()"
   ]
  },
  {
   "cell_type": "code",
   "execution_count": 5,
   "id": "36eca0fb-7342-43c2-b983-7bb82ec885c2",
   "metadata": {},
   "outputs": [
    {
     "data": {
      "text/plain": [
       "(7399, 4)"
      ]
     },
     "execution_count": 5,
     "metadata": {},
     "output_type": "execute_result"
    }
   ],
   "source": [
    "personalfinance.shape"
   ]
  },
  {
   "cell_type": "code",
   "execution_count": 6,
   "id": "828fdb0b-2b31-491e-9173-73caa2b20d04",
   "metadata": {},
   "outputs": [
    {
     "data": {
      "text/html": [
       "<div>\n",
       "<style scoped>\n",
       "    .dataframe tbody tr th:only-of-type {\n",
       "        vertical-align: middle;\n",
       "    }\n",
       "\n",
       "    .dataframe tbody tr th {\n",
       "        vertical-align: top;\n",
       "    }\n",
       "\n",
       "    .dataframe thead th {\n",
       "        text-align: right;\n",
       "    }\n",
       "</style>\n",
       "<table border=\"1\" class=\"dataframe\">\n",
       "  <thead>\n",
       "    <tr style=\"text-align: right;\">\n",
       "      <th></th>\n",
       "      <th>time</th>\n",
       "      <th>title</th>\n",
       "      <th>text</th>\n",
       "      <th>subreddit</th>\n",
       "    </tr>\n",
       "  </thead>\n",
       "  <tbody>\n",
       "    <tr>\n",
       "      <th>0</th>\n",
       "      <td>1.686793e+09</td>\n",
       "      <td>Should I go higher on VFIAX in my company matc...</td>\n",
       "      <td>I currently add 25% of my money into VFIAX the...</td>\n",
       "      <td>investing</td>\n",
       "    </tr>\n",
       "    <tr>\n",
       "      <th>1</th>\n",
       "      <td>1.686793e+09</td>\n",
       "      <td>An education article about earning season</td>\n",
       "      <td># Navigating the Busy Earnings Seasons: A Comp...</td>\n",
       "      <td>investing</td>\n",
       "    </tr>\n",
       "    <tr>\n",
       "      <th>2</th>\n",
       "      <td>1.686789e+09</td>\n",
       "      <td>Any alternative robo brokers similar to M1?</td>\n",
       "      <td>I started with M1 and loved it however my new ...</td>\n",
       "      <td>investing</td>\n",
       "    </tr>\n",
       "    <tr>\n",
       "      <th>3</th>\n",
       "      <td>1.686787e+09</td>\n",
       "      <td>Investing help for a 19 yr old</td>\n",
       "      <td>19 just got a job and want to start investing ...</td>\n",
       "      <td>investing</td>\n",
       "    </tr>\n",
       "    <tr>\n",
       "      <th>4</th>\n",
       "      <td>1.686786e+09</td>\n",
       "      <td>What’s with the consistent downward pressure o...</td>\n",
       "      <td>Is it the Hindenburg hit piece ? \\n\\nAre they ...</td>\n",
       "      <td>investing</td>\n",
       "    </tr>\n",
       "  </tbody>\n",
       "</table>\n",
       "</div>"
      ],
      "text/plain": [
       "           time                                              title  \\\n",
       "0  1.686793e+09  Should I go higher on VFIAX in my company matc...   \n",
       "1  1.686793e+09          An education article about earning season   \n",
       "2  1.686789e+09        Any alternative robo brokers similar to M1?   \n",
       "3  1.686787e+09                     Investing help for a 19 yr old   \n",
       "4  1.686786e+09  What’s with the consistent downward pressure o...   \n",
       "\n",
       "                                                text  subreddit  \n",
       "0  I currently add 25% of my money into VFIAX the...  investing  \n",
       "1  # Navigating the Busy Earnings Seasons: A Comp...  investing  \n",
       "2  I started with M1 and loved it however my new ...  investing  \n",
       "3  19 just got a job and want to start investing ...  investing  \n",
       "4  Is it the Hindenburg hit piece ? \\n\\nAre they ...  investing  "
      ]
     },
     "execution_count": 6,
     "metadata": {},
     "output_type": "execute_result"
    }
   ],
   "source": [
    "investing = data_importer(directory='../data', data_name_identifier='-investing-praw.csv')\n",
    "investing.head()"
   ]
  },
  {
   "cell_type": "code",
   "execution_count": 7,
   "id": "5285548f-603c-4edf-a79f-fcf8f2912a17",
   "metadata": {},
   "outputs": [
    {
     "data": {
      "text/plain": [
       "(4426, 4)"
      ]
     },
     "execution_count": 7,
     "metadata": {},
     "output_type": "execute_result"
    }
   ],
   "source": [
    "investing.shape"
   ]
  },
  {
   "cell_type": "code",
   "execution_count": 8,
   "id": "1572d9d5-c088-4988-9dbb-966cb7add8ce",
   "metadata": {},
   "outputs": [
    {
     "data": {
      "text/plain": [
       "(11825, 4)"
      ]
     },
     "execution_count": 8,
     "metadata": {},
     "output_type": "execute_result"
    }
   ],
   "source": [
    "df = pd.concat([personalfinance, investing], axis=0, ignore_index=True)\n",
    "df.shape"
   ]
  },
  {
   "cell_type": "code",
   "execution_count": 9,
   "id": "9a7727f1-6a13-422e-aa0c-683e1e7ac429",
   "metadata": {},
   "outputs": [
    {
     "data": {
      "text/plain": [
       "0"
      ]
     },
     "execution_count": 9,
     "metadata": {},
     "output_type": "execute_result"
    }
   ],
   "source": [
    "df.duplicated().sum()"
   ]
  },
  {
   "cell_type": "code",
   "execution_count": 10,
   "id": "0b2c216b-f267-4422-ac05-eb9c4bf3ebc2",
   "metadata": {},
   "outputs": [
    {
     "data": {
      "text/plain": [
       "time         float64\n",
       "title         object\n",
       "text          object\n",
       "subreddit     object\n",
       "dtype: object"
      ]
     },
     "execution_count": 10,
     "metadata": {},
     "output_type": "execute_result"
    }
   ],
   "source": [
    "df.dtypes"
   ]
  },
  {
   "cell_type": "code",
   "execution_count": 11,
   "id": "a0bd0f35-2ff8-4b19-8219-db893fbbdf7c",
   "metadata": {},
   "outputs": [
    {
     "data": {
      "text/plain": [
       "time           0\n",
       "title          0\n",
       "text         118\n",
       "subreddit      0\n",
       "dtype: int64"
      ]
     },
     "execution_count": 11,
     "metadata": {},
     "output_type": "execute_result"
    }
   ],
   "source": [
    "df.isna().sum()"
   ]
  },
  {
   "cell_type": "code",
   "execution_count": 12,
   "id": "e64e7624-aa2e-4771-b39f-a1079019df1d",
   "metadata": {},
   "outputs": [
    {
     "data": {
      "text/plain": [
       "investing          78\n",
       "personalfinance    40\n",
       "Name: subreddit, dtype: int64"
      ]
     },
     "execution_count": 12,
     "metadata": {},
     "output_type": "execute_result"
    }
   ],
   "source": [
    "df[df['text'].isna()]['subreddit'].value_counts()"
   ]
  },
  {
   "cell_type": "code",
   "execution_count": 13,
   "id": "782c79cd-274c-4f59-8d8a-bdf7e1b8be06",
   "metadata": {},
   "outputs": [],
   "source": [
    "df['text'].replace(np.nan, '', inplace=True)"
   ]
  },
  {
   "cell_type": "markdown",
   "id": "a606ac9c-7b60-4a44-9169-641a30dee5c1",
   "metadata": {},
   "source": [
    "> Missing values from posts with no content are replaced with an empty string."
   ]
  },
  {
   "cell_type": "markdown",
   "id": "5504388d-7ee3-4aab-953d-930be9d855d2",
   "metadata": {},
   "source": [
    "# EDA"
   ]
  },
  {
   "cell_type": "code",
   "execution_count": 14,
   "id": "d2433a6b-1d1e-4c2b-a8c7-3f9676b32a4b",
   "metadata": {},
   "outputs": [],
   "source": [
    "df['title_len'] = df['title'].apply(len)\n",
    "df['title_word_count'] = df['title'].apply(lambda x:len(x.split(' ')))\n",
    "\n",
    "df['text_len'] = df['text'].apply(lambda x:len(str(x)))\n",
    "df['text_word_count'] = df['text'].apply(lambda x:len(str(x).split(' ')))"
   ]
  },
  {
   "cell_type": "code",
   "execution_count": 15,
   "id": "ecd5ba54-b2e3-4081-a281-3c33082c3226",
   "metadata": {},
   "outputs": [
    {
     "data": {
      "text/html": [
       "<div>\n",
       "<style scoped>\n",
       "    .dataframe tbody tr th:only-of-type {\n",
       "        vertical-align: middle;\n",
       "    }\n",
       "\n",
       "    .dataframe tbody tr th {\n",
       "        vertical-align: top;\n",
       "    }\n",
       "\n",
       "    .dataframe thead th {\n",
       "        text-align: right;\n",
       "    }\n",
       "</style>\n",
       "<table border=\"1\" class=\"dataframe\">\n",
       "  <thead>\n",
       "    <tr style=\"text-align: right;\">\n",
       "      <th></th>\n",
       "      <th>title_len</th>\n",
       "      <th>text_len</th>\n",
       "      <th>title_word_count</th>\n",
       "      <th>text_word_count</th>\n",
       "    </tr>\n",
       "    <tr>\n",
       "      <th>subreddit</th>\n",
       "      <th></th>\n",
       "      <th></th>\n",
       "      <th></th>\n",
       "      <th></th>\n",
       "    </tr>\n",
       "  </thead>\n",
       "  <tbody>\n",
       "    <tr>\n",
       "      <th>investing</th>\n",
       "      <td>66.321509</td>\n",
       "      <td>1132.218708</td>\n",
       "      <td>11.443967</td>\n",
       "      <td>180.629010</td>\n",
       "    </tr>\n",
       "    <tr>\n",
       "      <th>personalfinance</th>\n",
       "      <td>65.240573</td>\n",
       "      <td>1115.338830</td>\n",
       "      <td>12.178673</td>\n",
       "      <td>204.319908</td>\n",
       "    </tr>\n",
       "  </tbody>\n",
       "</table>\n",
       "</div>"
      ],
      "text/plain": [
       "                 title_len     text_len  title_word_count  text_word_count\n",
       "subreddit                                                                 \n",
       "investing        66.321509  1132.218708         11.443967       180.629010\n",
       "personalfinance  65.240573  1115.338830         12.178673       204.319908"
      ]
     },
     "execution_count": 15,
     "metadata": {},
     "output_type": "execute_result"
    }
   ],
   "source": [
    "df.groupby('subreddit')[['title_len', 'text_len', 'title_word_count', 'text_word_count']].mean()"
   ]
  },
  {
   "cell_type": "markdown",
   "id": "3fa86d6f-ea04-4f62-9731-6c3a01544ef9",
   "metadata": {},
   "source": [
    "> The two subreddits have very similar number of characters, however, personal finance text word count is larger than investing subreddit. "
   ]
  },
  {
   "cell_type": "code",
   "execution_count": 16,
   "id": "a346c6db-28d6-4542-b768-4284670311d0",
   "metadata": {},
   "outputs": [
    {
     "data": {
      "text/html": [
       "<div>\n",
       "<style scoped>\n",
       "    .dataframe tbody tr th:only-of-type {\n",
       "        vertical-align: middle;\n",
       "    }\n",
       "\n",
       "    .dataframe tbody tr th {\n",
       "        vertical-align: top;\n",
       "    }\n",
       "\n",
       "    .dataframe thead th {\n",
       "        text-align: right;\n",
       "    }\n",
       "</style>\n",
       "<table border=\"1\" class=\"dataframe\">\n",
       "  <thead>\n",
       "    <tr style=\"text-align: right;\">\n",
       "      <th></th>\n",
       "      <th>time</th>\n",
       "      <th>title</th>\n",
       "      <th>text</th>\n",
       "      <th>subreddit</th>\n",
       "      <th>title_len</th>\n",
       "      <th>title_word_count</th>\n",
       "      <th>text_len</th>\n",
       "      <th>text_word_count</th>\n",
       "    </tr>\n",
       "  </thead>\n",
       "  <tbody>\n",
       "    <tr>\n",
       "      <th>1234</th>\n",
       "      <td>1.552054e+09</td>\n",
       "      <td>My daughter had a student loan for $7500. She ...</td>\n",
       "      <td>EDIT:  Floundering around kicked up something ...</td>\n",
       "      <td>personalfinance</td>\n",
       "      <td>298</td>\n",
       "      <td>58</td>\n",
       "      <td>345</td>\n",
       "      <td>57</td>\n",
       "    </tr>\n",
       "    <tr>\n",
       "      <th>1817</th>\n",
       "      <td>1.570412e+09</td>\n",
       "      <td>I went into Verizon to open a plan and the sal...</td>\n",
       "      <td>So I went into Verizon to open a new plan. Aft...</td>\n",
       "      <td>personalfinance</td>\n",
       "      <td>294</td>\n",
       "      <td>57</td>\n",
       "      <td>887</td>\n",
       "      <td>185</td>\n",
       "    </tr>\n",
       "    <tr>\n",
       "      <th>1611</th>\n",
       "      <td>1.507406e+09</td>\n",
       "      <td>My husband's aging parents asked if we'd be wi...</td>\n",
       "      <td>Edit: My husband would quit his job tomorrow t...</td>\n",
       "      <td>personalfinance</td>\n",
       "      <td>285</td>\n",
       "      <td>56</td>\n",
       "      <td>1221</td>\n",
       "      <td>226</td>\n",
       "    </tr>\n",
       "    <tr>\n",
       "      <th>1653</th>\n",
       "      <td>1.535382e+09</td>\n",
       "      <td>I made a cash deposit in a bank ATM machine. T...</td>\n",
       "      <td>Update: I cancelled my accounts with this bank...</td>\n",
       "      <td>personalfinance</td>\n",
       "      <td>288</td>\n",
       "      <td>56</td>\n",
       "      <td>417</td>\n",
       "      <td>78</td>\n",
       "    </tr>\n",
       "    <tr>\n",
       "      <th>4557</th>\n",
       "      <td>1.569146e+09</td>\n",
       "      <td>Usaa deleted my checking account for no reason...</td>\n",
       "      <td></td>\n",
       "      <td>personalfinance</td>\n",
       "      <td>289</td>\n",
       "      <td>56</td>\n",
       "      <td>0</td>\n",
       "      <td>1</td>\n",
       "    </tr>\n",
       "  </tbody>\n",
       "</table>\n",
       "</div>"
      ],
      "text/plain": [
       "              time                                              title  \\\n",
       "1234  1.552054e+09  My daughter had a student loan for $7500. She ...   \n",
       "1817  1.570412e+09  I went into Verizon to open a plan and the sal...   \n",
       "1611  1.507406e+09  My husband's aging parents asked if we'd be wi...   \n",
       "1653  1.535382e+09  I made a cash deposit in a bank ATM machine. T...   \n",
       "4557  1.569146e+09  Usaa deleted my checking account for no reason...   \n",
       "\n",
       "                                                   text        subreddit  \\\n",
       "1234  EDIT:  Floundering around kicked up something ...  personalfinance   \n",
       "1817  So I went into Verizon to open a new plan. Aft...  personalfinance   \n",
       "1611  Edit: My husband would quit his job tomorrow t...  personalfinance   \n",
       "1653  Update: I cancelled my accounts with this bank...  personalfinance   \n",
       "4557                                                     personalfinance   \n",
       "\n",
       "      title_len  title_word_count  text_len  text_word_count  \n",
       "1234        298                58       345               57  \n",
       "1817        294                57       887              185  \n",
       "1611        285                56      1221              226  \n",
       "1653        288                56       417               78  \n",
       "4557        289                56         0                1  "
      ]
     },
     "execution_count": 16,
     "metadata": {},
     "output_type": "execute_result"
    }
   ],
   "source": [
    "df.sort_values('title_word_count', ascending=False)[:5]"
   ]
  },
  {
   "cell_type": "code",
   "execution_count": 17,
   "id": "869e0265-8dbc-4457-9b62-0d889ae55f90",
   "metadata": {},
   "outputs": [
    {
     "data": {
      "text/html": [
       "<div>\n",
       "<style scoped>\n",
       "    .dataframe tbody tr th:only-of-type {\n",
       "        vertical-align: middle;\n",
       "    }\n",
       "\n",
       "    .dataframe tbody tr th {\n",
       "        vertical-align: top;\n",
       "    }\n",
       "\n",
       "    .dataframe thead th {\n",
       "        text-align: right;\n",
       "    }\n",
       "</style>\n",
       "<table border=\"1\" class=\"dataframe\">\n",
       "  <thead>\n",
       "    <tr style=\"text-align: right;\">\n",
       "      <th></th>\n",
       "      <th>time</th>\n",
       "      <th>title</th>\n",
       "      <th>text</th>\n",
       "      <th>subreddit</th>\n",
       "      <th>title_len</th>\n",
       "      <th>title_word_count</th>\n",
       "      <th>text_len</th>\n",
       "      <th>text_word_count</th>\n",
       "    </tr>\n",
       "  </thead>\n",
       "  <tbody>\n",
       "    <tr>\n",
       "      <th>10354</th>\n",
       "      <td>1.440532e+09</td>\n",
       "      <td>unbelieveable</td>\n",
       "      <td>good to see all our gains have been wiped out ...</td>\n",
       "      <td>investing</td>\n",
       "      <td>13</td>\n",
       "      <td>1</td>\n",
       "      <td>233</td>\n",
       "      <td>42</td>\n",
       "    </tr>\n",
       "    <tr>\n",
       "      <th>10633</th>\n",
       "      <td>1.586325e+09</td>\n",
       "      <td>michael-burry-slams-virus-lockdown</td>\n",
       "      <td>https://www.bloomberg.com/news/articles/2020-0...</td>\n",
       "      <td>investing</td>\n",
       "      <td>34</td>\n",
       "      <td>1</td>\n",
       "      <td>184</td>\n",
       "      <td>13</td>\n",
       "    </tr>\n",
       "    <tr>\n",
       "      <th>10274</th>\n",
       "      <td>1.582492e+09</td>\n",
       "      <td>SPCE</td>\n",
       "      <td>I think SPCE will have earnings that make the ...</td>\n",
       "      <td>investing</td>\n",
       "      <td>4</td>\n",
       "      <td>1</td>\n",
       "      <td>158</td>\n",
       "      <td>30</td>\n",
       "    </tr>\n",
       "    <tr>\n",
       "      <th>10253</th>\n",
       "      <td>1.582134e+09</td>\n",
       "      <td>Bitcoin</td>\n",
       "      <td>Not trying to get into a philosophical debate ...</td>\n",
       "      <td>investing</td>\n",
       "      <td>7</td>\n",
       "      <td>1</td>\n",
       "      <td>404</td>\n",
       "      <td>71</td>\n",
       "    </tr>\n",
       "    <tr>\n",
       "      <th>10616</th>\n",
       "      <td>1.440410e+09</td>\n",
       "      <td>FUCK!!!!!!!!!!!!!</td>\n",
       "      <td>OK, THE DOW IS DOWN 400 MOTHER FUCKING POINTS ...</td>\n",
       "      <td>investing</td>\n",
       "      <td>17</td>\n",
       "      <td>1</td>\n",
       "      <td>137</td>\n",
       "      <td>30</td>\n",
       "    </tr>\n",
       "  </tbody>\n",
       "</table>\n",
       "</div>"
      ],
      "text/plain": [
       "               time                               title  \\\n",
       "10354  1.440532e+09                       unbelieveable   \n",
       "10633  1.586325e+09  michael-burry-slams-virus-lockdown   \n",
       "10274  1.582492e+09                                SPCE   \n",
       "10253  1.582134e+09                             Bitcoin   \n",
       "10616  1.440410e+09                   FUCK!!!!!!!!!!!!!   \n",
       "\n",
       "                                                    text  subreddit  \\\n",
       "10354  good to see all our gains have been wiped out ...  investing   \n",
       "10633  https://www.bloomberg.com/news/articles/2020-0...  investing   \n",
       "10274  I think SPCE will have earnings that make the ...  investing   \n",
       "10253  Not trying to get into a philosophical debate ...  investing   \n",
       "10616  OK, THE DOW IS DOWN 400 MOTHER FUCKING POINTS ...  investing   \n",
       "\n",
       "       title_len  title_word_count  text_len  text_word_count  \n",
       "10354         13                 1       233               42  \n",
       "10633         34                 1       184               13  \n",
       "10274          4                 1       158               30  \n",
       "10253          7                 1       404               71  \n",
       "10616         17                 1       137               30  "
      ]
     },
     "execution_count": 17,
     "metadata": {},
     "output_type": "execute_result"
    }
   ],
   "source": [
    "df.sort_values('title_word_count', ascending=True)[:5]"
   ]
  },
  {
   "cell_type": "code",
   "execution_count": 18,
   "id": "849a6e40-f7e3-4edb-bdb2-77421074a157",
   "metadata": {},
   "outputs": [
    {
     "data": {
      "text/html": [
       "<div>\n",
       "<style scoped>\n",
       "    .dataframe tbody tr th:only-of-type {\n",
       "        vertical-align: middle;\n",
       "    }\n",
       "\n",
       "    .dataframe tbody tr th {\n",
       "        vertical-align: top;\n",
       "    }\n",
       "\n",
       "    .dataframe thead th {\n",
       "        text-align: right;\n",
       "    }\n",
       "</style>\n",
       "<table border=\"1\" class=\"dataframe\">\n",
       "  <thead>\n",
       "    <tr style=\"text-align: right;\">\n",
       "      <th></th>\n",
       "      <th>time</th>\n",
       "      <th>title</th>\n",
       "      <th>text</th>\n",
       "      <th>subreddit</th>\n",
       "      <th>title_len</th>\n",
       "      <th>title_word_count</th>\n",
       "      <th>text_len</th>\n",
       "      <th>text_word_count</th>\n",
       "    </tr>\n",
       "  </thead>\n",
       "  <tbody>\n",
       "    <tr>\n",
       "      <th>8254</th>\n",
       "      <td>1.611921e+09</td>\n",
       "      <td>Gamestop Big Picture: The Short Singularity Pt...</td>\n",
       "      <td>*Disclaimer: I am not a financial advisor. Th...</td>\n",
       "      <td>investing</td>\n",
       "      <td>62</td>\n",
       "      <td>11</td>\n",
       "      <td>36036</td>\n",
       "      <td>6401</td>\n",
       "    </tr>\n",
       "    <tr>\n",
       "      <th>10431</th>\n",
       "      <td>1.613418e+09</td>\n",
       "      <td>Huge DD on Electric Last Mile Solutions. Only ...</td>\n",
       "      <td>Hello  All, this is my first DD. It is long bu...</td>\n",
       "      <td>investing</td>\n",
       "      <td>66</td>\n",
       "      <td>14</td>\n",
       "      <td>34215</td>\n",
       "      <td>6379</td>\n",
       "    </tr>\n",
       "    <tr>\n",
       "      <th>10176</th>\n",
       "      <td>1.655736e+09</td>\n",
       "      <td>Bitcoin is a new form of investment fraud</td>\n",
       "      <td>tl;dr: Bitcoin is a new form of investment fra...</td>\n",
       "      <td>investing</td>\n",
       "      <td>41</td>\n",
       "      <td>8</td>\n",
       "      <td>32914</td>\n",
       "      <td>5120</td>\n",
       "    </tr>\n",
       "    <tr>\n",
       "      <th>1279</th>\n",
       "      <td>1.499307e+09</td>\n",
       "      <td>Student Loans - an Insider's Guide to Forgiven...</td>\n",
       "      <td>This is meant to be a user-friendly, non-jargo...</td>\n",
       "      <td>personalfinance</td>\n",
       "      <td>58</td>\n",
       "      <td>9</td>\n",
       "      <td>25426</td>\n",
       "      <td>4277</td>\n",
       "    </tr>\n",
       "    <tr>\n",
       "      <th>8644</th>\n",
       "      <td>1.618503e+09</td>\n",
       "      <td>Jeff Bezos Releases Final Letter To Amazon Sha...</td>\n",
       "      <td>\"In Amazon’s 1997 letter to shareholders, our ...</td>\n",
       "      <td>investing</td>\n",
       "      <td>55</td>\n",
       "      <td>8</td>\n",
       "      <td>23982</td>\n",
       "      <td>3989</td>\n",
       "    </tr>\n",
       "  </tbody>\n",
       "</table>\n",
       "</div>"
      ],
      "text/plain": [
       "               time                                              title  \\\n",
       "8254   1.611921e+09  Gamestop Big Picture: The Short Singularity Pt...   \n",
       "10431  1.613418e+09  Huge DD on Electric Last Mile Solutions. Only ...   \n",
       "10176  1.655736e+09          Bitcoin is a new form of investment fraud   \n",
       "1279   1.499307e+09  Student Loans - an Insider's Guide to Forgiven...   \n",
       "8644   1.618503e+09  Jeff Bezos Releases Final Letter To Amazon Sha...   \n",
       "\n",
       "                                                    text        subreddit  \\\n",
       "8254    *Disclaimer: I am not a financial advisor. Th...        investing   \n",
       "10431  Hello  All, this is my first DD. It is long bu...        investing   \n",
       "10176  tl;dr: Bitcoin is a new form of investment fra...        investing   \n",
       "1279   This is meant to be a user-friendly, non-jargo...  personalfinance   \n",
       "8644   \"In Amazon’s 1997 letter to shareholders, our ...        investing   \n",
       "\n",
       "       title_len  title_word_count  text_len  text_word_count  \n",
       "8254          62                11     36036             6401  \n",
       "10431         66                14     34215             6379  \n",
       "10176         41                 8     32914             5120  \n",
       "1279          58                 9     25426             4277  \n",
       "8644          55                 8     23982             3989  "
      ]
     },
     "execution_count": 18,
     "metadata": {},
     "output_type": "execute_result"
    }
   ],
   "source": [
    "df.sort_values('text_word_count', ascending=False)[:5]"
   ]
  },
  {
   "cell_type": "code",
   "execution_count": 19,
   "id": "aeaaf399-e836-4bc1-9640-f32bb1677e1a",
   "metadata": {},
   "outputs": [
    {
     "data": {
      "image/png": "[encoded data removed]",
      "text/plain": [
       "<Figure size 640x480 with 1 Axes>"
      ]
     },
     "metadata": {},
     "output_type": "display_data"
    }
   ],
   "source": [
    "sns.histplot(x=df['title_word_count'], bins=60);"
   ]
  },
  {
   "cell_type": "code",
   "execution_count": 20,
   "id": "73309c4c-3bf9-406c-8274-5844e3748f6f",
   "metadata": {},
   "outputs": [
    {
     "data": {
      "image/png": "[encoded data removed]",
      "text/plain": [
       "<Figure size 640x480 with 1 Axes>"
      ]
     },
     "metadata": {},
     "output_type": "display_data"
    }
   ],
   "source": [
    "sns.histplot(x=df['text_word_count'], bins=60);"
   ]
  },
  {
   "cell_type": "code",
   "execution_count": 21,
   "id": "f33b88f1-12b7-4c5e-acb6-d6a8875c6951",
   "metadata": {},
   "outputs": [
    {
     "data": {
      "image/png": "[encoded data removed]",
      "text/plain": [
       "<Figure size 640x480 with 1 Axes>"
      ]
     },
     "metadata": {},
     "output_type": "display_data"
    }
   ],
   "source": [
    "sns.histplot(x=df['title_len'], bins=60);"
   ]
  },
  {
   "cell_type": "code",
   "execution_count": 22,
   "id": "9ea265da-dd72-4a2e-959e-cc124982991f",
   "metadata": {},
   "outputs": [
    {
     "data": {
      "image/png": "[encoded data removed]",
      "text/plain": [
       "<Figure size 640x480 with 1 Axes>"
      ]
     },
     "metadata": {},
     "output_type": "display_data"
    }
   ],
   "source": [
    "sns.histplot(x=df['text_len'], bins=60);"
   ]
  },
  {
   "cell_type": "markdown",
   "id": "fcc2ebc1-7720-46bc-942a-1c2c54882bd6",
   "metadata": {},
   "source": [
    "## Data cleaning"
   ]
  },
  {
   "cell_type": "markdown",
   "id": "a8abce2e-97d7-4c48-8792-d7933766b41f",
   "metadata": {},
   "source": [
    "### Merging Text and Title Column\n",
    "To maximize the information obtained from text analysis, it is beneficial to merge the title and text content of each post together. By combining these two components, we can capture a more comprehensive representation of the post's content for further analysis."
   ]
  },
  {
   "cell_type": "code",
   "execution_count": 23,
   "id": "1f522040-44a1-4644-856a-28d0b8344b1d",
   "metadata": {},
   "outputs": [],
   "source": [
    "df['full_text'] = df['title'] + ' ' + df['text']"
   ]
  },
  {
   "cell_type": "markdown",
   "id": "ceb42c6e-ffbf-4fed-9cca-d6ff17f510f8",
   "metadata": {},
   "source": [
    "In order to mitigate any potential bias introduced by the subreddit names and to ensure the model is not influenced by them, the titles of both subreddits have been removed from the dataset. This step helps to focus the analysis on the textual content of the posts and avoids any undue influence that may arise from the subreddit names themselves."
   ]
  },
  {
   "cell_type": "code",
   "execution_count": 24,
   "id": "65b42bf3-cafb-4ff1-92bf-eecdb304cf0a",
   "metadata": {},
   "outputs": [
    {
     "data": {
      "text/plain": [
       "1360"
      ]
     },
     "execution_count": 24,
     "metadata": {},
     "output_type": "execute_result"
    }
   ],
   "source": [
    "df['full_text'].str.lower().str.contains('investing').sum()"
   ]
  },
  {
   "cell_type": "code",
   "execution_count": 25,
   "id": "fc1d4f91-53e7-4ef9-bf14-9827a6909be7",
   "metadata": {},
   "outputs": [
    {
     "data": {
      "text/plain": [
       "investing          957\n",
       "personalfinance    403\n",
       "Name: subreddit, dtype: int64"
      ]
     },
     "execution_count": 25,
     "metadata": {},
     "output_type": "execute_result"
    }
   ],
   "source": [
    "df.loc[df['full_text'].str.lower().str.contains('investing'), 'subreddit'].value_counts()"
   ]
  },
  {
   "cell_type": "code",
   "execution_count": 26,
   "id": "54063e2f-9852-4b9f-9c3e-b791ab77bdf5",
   "metadata": {},
   "outputs": [
    {
     "data": {
      "text/plain": [
       "138"
      ]
     },
     "execution_count": 26,
     "metadata": {},
     "output_type": "execute_result"
    }
   ],
   "source": [
    "df['full_text'].str.lower().str.contains('personal finance').sum()"
   ]
  },
  {
   "cell_type": "code",
   "execution_count": 27,
   "id": "090a2b56-d980-47b4-9bda-8101dda56a6c",
   "metadata": {},
   "outputs": [],
   "source": [
    "df['full_text'] = df['full_text'].str.lower().str.replace('investing', '')\n",
    "df['full_text'] = df['full_text'].str.lower().str.replace('personal finance', '')"
   ]
  },
  {
   "cell_type": "markdown",
   "id": "c8fa0ad0-91db-45e8-b59e-f4d387de0d96",
   "metadata": {},
   "source": [
    "### Getting the data ready for analysis"
   ]
  },
  {
   "cell_type": "code",
   "execution_count": 28,
   "id": "cf0447c0-3f97-4588-a0c0-fac6a2355829",
   "metadata": {},
   "outputs": [],
   "source": [
    "df['subreddit'] = (df['subreddit']=='personalfinance')*1"
   ]
  },
  {
   "cell_type": "code",
   "execution_count": 29,
   "id": "87e42e09-0826-485d-aba1-4f4d6b6beed1",
   "metadata": {},
   "outputs": [
    {
     "data": {
      "text/html": [
       "<div>\n",
       "<style scoped>\n",
       "    .dataframe tbody tr th:only-of-type {\n",
       "        vertical-align: middle;\n",
       "    }\n",
       "\n",
       "    .dataframe tbody tr th {\n",
       "        vertical-align: top;\n",
       "    }\n",
       "\n",
       "    .dataframe thead th {\n",
       "        text-align: right;\n",
       "    }\n",
       "</style>\n",
       "<table border=\"1\" class=\"dataframe\">\n",
       "  <thead>\n",
       "    <tr style=\"text-align: right;\">\n",
       "      <th></th>\n",
       "      <th>subreddit</th>\n",
       "      <th>full_text</th>\n",
       "    </tr>\n",
       "  </thead>\n",
       "  <tbody>\n",
       "    <tr>\n",
       "      <th>0</th>\n",
       "      <td>1</td>\n",
       "      <td>how do i efficiently set aside money for my da...</td>\n",
       "    </tr>\n",
       "    <tr>\n",
       "      <th>1</th>\n",
       "      <td>1</td>\n",
       "      <td>i want to sell my new car so i can afford to m...</td>\n",
       "    </tr>\n",
       "    <tr>\n",
       "      <th>2</th>\n",
       "      <td>1</td>\n",
       "      <td>disputing a medical bill i am a healthy indivi...</td>\n",
       "    </tr>\n",
       "    <tr>\n",
       "      <th>3</th>\n",
       "      <td>1</td>\n",
       "      <td>using flat payment instead of minimum balance ...</td>\n",
       "    </tr>\n",
       "    <tr>\n",
       "      <th>4</th>\n",
       "      <td>1</td>\n",
       "      <td>best credit card for travel i’m getting marrie...</td>\n",
       "    </tr>\n",
       "  </tbody>\n",
       "</table>\n",
       "</div>"
      ],
      "text/plain": [
       "   subreddit                                          full_text\n",
       "0          1  how do i efficiently set aside money for my da...\n",
       "1          1  i want to sell my new car so i can afford to m...\n",
       "2          1  disputing a medical bill i am a healthy indivi...\n",
       "3          1  using flat payment instead of minimum balance ...\n",
       "4          1  best credit card for travel i’m getting marrie..."
      ]
     },
     "execution_count": 29,
     "metadata": {},
     "output_type": "execute_result"
    }
   ],
   "source": [
    "df = df[['subreddit', 'full_text']]\n",
    "df.head()"
   ]
  },
  {
   "cell_type": "markdown",
   "id": "a7bbc773-37dc-460b-8b69-7fbc9bbbafbd",
   "metadata": {},
   "source": [
    "## Splitting the Testing Data from the Remaining of the Sample\n",
    "\n",
    "Before proceeding with the analysis, it is essential to split the data into three subsets: training, validation, and testing. In this case, 20% of the sample will be reserved for the testing data, while the remaining portion will be divided between the training and validation samples. This splitting ensures that we have separate datasets to train the model, tune hyperparameters using the validation set, and evaluate the final performance on the test set, enabling a robust and reliable analysis.\n",
    "\n",
    "To ensure reproducibility and facilitate future work, it is helpful to create a function that encapsulates all the cleaning steps. This function can be designed to take the raw data as input and return the cleaned data ready for further analysis. By encapsulating the cleaning steps in a single function, it becomes easier to apply the same cleaning process consistently in future projects."
   ]
  },
  {
   "cell_type": "code",
   "execution_count": 30,
   "id": "b1e24360-687c-4a78-ace5-3fd8a4e1015c",
   "metadata": {},
   "outputs": [],
   "source": [
    "# Importing the data agian!\n",
    "personalfinance = data_importer(directory='../data', data_name_identifier='-personalfiannce-praw.csv')\n",
    "investing = data_importer(directory='../data', data_name_identifier='-investing-praw.csv')\n",
    "df = pd.concat([personalfinance, investing], axis=0, ignore_index=True)"
   ]
  },
  {
   "cell_type": "code",
   "execution_count": 31,
   "id": "67f4c185-016b-41eb-8a89-99b49742324f",
   "metadata": {},
   "outputs": [],
   "source": [
    "df_test = df.sample(frac=0.2 ,random_state=42)"
   ]
  },
  {
   "cell_type": "code",
   "execution_count": 32,
   "id": "4f33c44c-5356-4f48-bd32-40c992c673c8",
   "metadata": {},
   "outputs": [],
   "source": [
    "df_train = df.drop(index=df_test.index)"
   ]
  },
  {
   "cell_type": "code",
   "execution_count": 33,
   "id": "b7a1167d-f261-4dcd-925f-21944f6bbaa9",
   "metadata": {},
   "outputs": [
    {
     "name": "stdout",
     "output_type": "stream",
     "text": [
      "Full sample size: (11825, 4)\n",
      "Training sample size: (9460, 4)\n",
      "Test sample size: (2365, 4)\n"
     ]
    }
   ],
   "source": [
    "print('Full sample size:', df.shape)\n",
    "print('Training sample size:', df_train.shape)\n",
    "print('Test sample size:', df_test.shape)"
   ]
  },
  {
   "cell_type": "markdown",
   "id": "96868d4b-8bdf-4c6d-bd5c-e9b4bbb0bd01",
   "metadata": {},
   "source": [
    "Utilizing the clean_data function from the nlp_functions module, we can efficiently clean the training data."
   ]
  },
  {
   "cell_type": "code",
   "execution_count": 34,
   "id": "d082f5bc-b5c9-4aa0-8f30-c619d6d156df",
   "metadata": {},
   "outputs": [],
   "source": [
    "df_train_cleaned = clean_data(df_train)"
   ]
  },
  {
   "cell_type": "code",
   "execution_count": 35,
   "id": "18e93add-add1-4151-a54a-03f414353402",
   "metadata": {},
   "outputs": [],
   "source": [
    "df_train_cleaned.to_csv('../data/reddit_train.csv', index=False)\n",
    "df_test.to_csv('../data/reddit_test.csv', index=False)"
   ]
  }
 ],
 "metadata": {
  "kernelspec": {
   "display_name": "Python 3 (ipykernel)",
   "language": "python",
   "name": "python3"
  },
  "language_info": {
   "codemirror_mode": {
    "name": "ipython",
    "version": 3
   },
   "file_extension": ".py",
   "mimetype": "text/x-python",
   "name": "python",
   "nbconvert_exporter": "python",
   "pygments_lexer": "ipython3",
   "version": "3.10.9"
  }
 },
 "nbformat": 4,
 "nbformat_minor": 5
}
